{
 "cells": [
  {
   "cell_type": "markdown",
   "metadata": {},
   "source": [
    "# Capstone Project\n",
    "## University and College neighbourhood shops and crime climate\n",
    "### Business Case\n",
    "For prospect students who can afford living in the San Francisco area and want to apply for a college,  \n",
    "a preliminary research might be interesting.  \n",
    "This research project aims to provide insights in the neighbourhoods of the largest Colleges and Universities in San Fran.  \n",
    "The assumption is that a student has sufficient means for buying coffee and visiting restaurants, besided the usual supermarket visits.\n",
    "Presumably sponsored by their parents, scholarship or an unhealthy studyloan.  \n",
    "What might be interesting is the crimerate of the several serious recorded offences in the neighbourhoods when selecting an appropriate  \n",
    "College or University given that the subjects of your choice are available at multiple locations.  \n",
    "\n",
    "Therefore this project serves two purposes:\n",
    "- selecting a College or University with nice neighbourhood shops and facilities\n",
    "- for the personal security conscious also insights in the crimerate that can be factored in your education choice"
   ]
  },
  {
   "cell_type": "markdown",
   "metadata": {},
   "source": [
    "## Discussion of the business case\n",
    "Wanting to know the nice shops is quite obvious, these can also be clustered with a machine learning algorithm.  \n",
    "The crimerate might also be interesting because when your choice of education is only available at a limited number of locations,  \n",
    "you know beforehand which areas to avoid and at what periods of the day.\n",
    "Possibly it might also be interesting to explore 6 points within walking distance of each education location,  \n",
    "to provide insight into the kind of shop/venue mixture of that smaller area for knowing where to go a bit more specific than the  \n",
    "more generic foursquare in the neighbourhood searches."
   ]
  },
  {
   "cell_type": "markdown",
   "metadata": {},
   "source": [
    "## Discussion of data sources and usage\n",
    "The folium package will be used to show OpenStreetMap data.  \n",
    "The Foursquare API provides nearby venues with some additional data.  \n",
    "The https://data.sfgov.org provides the crimerates of 2018 and the geojson neighbourhood shape data.  \n",
    "The http://www.city-data.com/city/San-Francisco-California.html provides the list of Universities and Colleges that will be scraped  \n",
    "with BeautifulSoup4 into a Pandas DataFrame. These locations provide the basis for the neighbourhood analysis of shops and crimerate.  \n",
    "\n",
    "The crimes will be grouped in the vincinity of these beforementioned locations with a Latitude and Longitude bandwith,  \n",
    "furthermore there will be a selection of the more violent and invasive crimes that have a personal experience potention.  \n",
    "This means that non-criminal, fraud, found licence plates and so on, will be excluded from the further analysis.  \n",
    "\n",
    "Then these crimes could even be clustered with the K-means unsupervised clustering algorithm to provide a 'to be labeled'  \n",
    "crime profile. Distinctions could be made between working hours, evening and nighttime events to provide further differentiation  \n",
    "between crimes.  \n",
    "\n",
    "It might also be possible that there is a correlation between time of events and shop-venue clusters, therefore this will be researched.  \n",
    "It might well be that this possible correlation is quite insignificant or non-existent at all. Though the presumption is that in an area  \n",
    "with many bars and cafes the assault rate would be higher.  \n",
    "\n"
   ]
  },
  {
   "cell_type": "markdown",
   "metadata": {},
   "source": [
    "# Methodology section\n",
    "Pandas will be used for data mangling, thus cleaning, reading, grouping and aggregating data in a table formatted style.\n",
    "The beforementioned data sources will be filtered on:\n",
    "- the vincinity of the educational locations\n",
    "- shops and venues around these locations\n",
    "- crimes by these neighbourhoods, crimetype and timelyness of occurences\n",
    "\n",
    "## Exploratory analysis\n",
    "- describe the Latitude and Longitude bandwidths of the selected locations for crime and shop-venue selections\n",
    "- plot the crimes in total and per location with a histogram with time-period on the horizontal axis and count on the vertical axis.\n",
    "- plot these crimes also per selected main category.\n",
    "\n",
    "For visualisation purposes also provide a detailed map with aggregated crimes around each location, with markers that provide details.\n",
    "Also plot the found venues in the areas around each location for generating an idea about the neighbourhoods.\n",
    "\n",
    "## Machine Learning: Clustering\n",
    "For creating insights into the neighbourhood climates, clustering is an appropriate algorithm that can classify similar 'themed'  \n",
    "shops and venues in the vincinity. This clustering could be tweaked manually by performing different selections, like a special  \n",
    "seperate selection of supermarket areas in the neighbourhood. This selection could theme the area quite significantly.  \n",
    "The crimes will be clustered with 'Agglomerative Hierarchical Clustering', K-Means, Expectation–Maximization (EM) Clustering using Gaussian Mixture Models (GMM) _(or variant)_, Mean Shift Clustering, and Density-Based Spatial Clustering of Applications with Noise (DBSCAN).  \n",
    "All these clustering algorithms are provided by the SciKit-Learn package and each has advantages and disadvantages.  \n",
    "These crime clusters will be visualised in distribution plots and on the folium based maps.\n",
    "\n",
    "## Machine Learning: Inferential statistics\n",
    "There might be a correlation between:\n",
    "- size of the educational institution and: \n",
    "-- shop-venue climate\n",
    "-- crime climate\n",
    "- shop-venue climate and:\n",
    "-- kind of most occuring crimes\n",
    "-- timelyness of specific kind of crimes\n",
    "where these crime and shop-venue climates are approached with the found clusters(e.g. crimetype classification cluster),  \n",
    "or on shop-venue climate and specific selected crimetypes in the area (e.g. assault in a cafe-bar typed area).\n",
    "\n",
    "## Further considerations\n",
    "What might be interesting is to run the classification algorithms on the central-large education location area,  \n",
    "the prespecified 6 sub-areas around each education location,  \n",
    "and on the aggregated crime-statistics-set of the selected locations of the San Fransisco area with different cluster sizes.\n"
   ]
  },
  {
   "cell_type": "code",
   "execution_count": null,
   "metadata": {},
   "outputs": [],
   "source": []
  }
 ],
 "metadata": {
  "kernelspec": {
   "display_name": "Python 3",
   "language": "python",
   "name": "python3"
  },
  "language_info": {
   "codemirror_mode": {
    "name": "ipython",
    "version": 3
   },
   "file_extension": ".py",
   "mimetype": "text/x-python",
   "name": "python",
   "nbconvert_exporter": "python",
   "pygments_lexer": "ipython3",
   "version": "3.6.6"
  }
 },
 "nbformat": 4,
 "nbformat_minor": 2
}
